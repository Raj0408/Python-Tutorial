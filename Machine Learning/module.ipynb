{
 "cells": [
  {
   "cell_type": "code",
   "execution_count": 3,
   "metadata": {},
   "outputs": [],
   "source": [
    "import tkinter as tk\n",
    "import pandas as pd\n",
    "from sklearn.linear_model import LinearRegression\n",
    "from sklearn.model_selection import train_test_split\n",
    "\n",
    "def predict_price():\n",
    "    # Read the dataset\n",
    "    dataset = pd.read_csv(\"https://github.com/Shreyansh81/House-PricePrediction/raw/main/Housing%20Information.csv\")\n",
    "    # Select the features for our model\n",
    "    features = ['LotArea','YearBuilt','1stFlrSF','2ndFlrSF','FullBath','BedroomAbvGr','TotRmsAbvGrd']\n",
    "    X = dataset[features]\n",
    "    y = dataset['SalePrice']\n",
    "    # Split the dataset into training and test sets\n",
    "    X_train, X_test, y_train, y_test = train_test_split(X, y, test_size=0.2, random_state=0)\n",
    "    # Train the Linear Regression model\n",
    "    regressor = LinearRegression()\n",
    "    regressor.fit(X_train, y_train)\n",
    "    # Use the model to predict the price\n",
    "    lot_area = float(lot_area_entry.get())\n",
    "    year_built = float(year_built_entry.get())\n",
    "    first_floor_sf = float(first_floor_sf_entry.get())\n",
    "    second_floor_sf = float(second_floor_sf_entry.get())\n",
    "    full_bath = float(full_bath_entry.get())\n",
    "    bedroom_abv_gr = float(bedroom_abv_gr_entry.get())\n",
    "    tot_rms_abv_grd = float(tot_rms_abv_grd_entry.get())\n",
    "    price = regressor.predict([[lot_area, year_built, first_floor_sf, second_floor_sf, full_bath, bedroom_abv_gr, tot_rms_abv_grd]])\n",
    "    # Display the predicted price\n",
    "    price_label.config(text=\"Predicted price: ${:,.2f}\".format(price[0]))\n",
    "    \n",
    "root = tk.Tk()\n",
    "root.title(\"House Price Predictor\")\n",
    "\n",
    "lot_area_label = tk.Label(root, text=\"Lot area (sqft):\")\n",
    "lot_area_label.grid(row=0, column=0)\n",
    "lot_area_entry = tk.Entry(root)\n",
    "lot_area_entry.grid(row=0, column=1)\n",
    "\n",
    "year_built_label = tk.Label(root, text=\"Year built:\")\n",
    "year_built_label.grid(row=1, column=0)\n",
    "year_built_entry = tk.Entry(root)\n",
    "year_built_entry.grid(row=1, column=1)\n",
    "\n",
    "first_floor_sf_label = tk.Label(root, text=\"First floor area (sqft):\")\n",
    "first_floor_sf_label.grid(row=2, column=0)\n",
    "first_floor_sf_entry = tk.Entry\n",
    "\n",
    "\n",
    "tk.mainloop()"
   ]
  },
  {
   "cell_type": "code",
   "execution_count": 8,
   "metadata": {},
   "outputs": [
    {
     "name": "stdout",
     "output_type": "stream",
     "text": [
      "Mean Squared Error: 10549721686.160313\n",
      "R^2 : 0.9146454505137985\n"
     ]
    }
   ],
   "source": [
    "import pandas as pd\n",
    "from sklearn.linear_model import LinearRegression\n",
    "from sklearn.model_selection import train_test_split\n",
    "from sklearn.metrics import mean_squared_error\n",
    "\n",
    "\n",
    "url = \"https://github.com/Shreyansh81/House-Price-Prediction/raw/main/Housing%20Information.csv\"\n",
    "data = pd.read_csv(url)\n",
    "\n",
    "\n",
    "\n",
    "data = data[data.columns[data.dtypes != object]]\n",
    "X = data.drop(['Price'],axis=1)\n",
    "y = data['Price']\n",
    "\n",
    "\n",
    "X_train, X_test, y_train, y_test = train_test_split(X, y, test_size=0.2, random_state=0)\n",
    "\n",
    "\n",
    "lr = LinearRegression()\n",
    "lr.fit(X_train, y_train)\n",
    "\n",
    "\n",
    "y_pred = lr.predict(X_test)\n",
    "\n",
    "\n",
    "mse = mean_squared_error(y_test, y_pred)\n",
    "print(f'Mean Squared Error: {mse}')\n",
    "\n",
    "\n",
    "r2 = lr.score(X_test, y_test)\n",
    "print(f'R^2 : {r2}')\n",
    "\n"
   ]
  },
  {
   "cell_type": "code",
   "execution_count": 16,
   "metadata": {},
   "outputs": [
    {
     "ename": "ValueError",
     "evalue": "With n_samples=0, test_size=0.2 and train_size=None, the resulting train set will be empty. Adjust any of the aforementioned parameters.",
     "output_type": "error",
     "traceback": [
      "\u001b[1;31m---------------------------------------------------------------------------\u001b[0m",
      "\u001b[1;31mValueError\u001b[0m                                Traceback (most recent call last)",
      "\u001b[1;32mc:\\Python Tutorial\\module.ipynb Cell 3\u001b[0m in \u001b[0;36m<cell line: 20>\u001b[1;34m()\u001b[0m\n\u001b[0;32m     <a href='vscode-notebook-cell:/c%3A/Python%20Tutorial/module.ipynb#W2sZmlsZQ%3D%3D?line=16'>17</a>\u001b[0m y \u001b[39m=\u001b[39m y\u001b[39m.\u001b[39mmap({\u001b[39m'\u001b[39m\u001b[39mM\u001b[39m\u001b[39m'\u001b[39m: \u001b[39m1\u001b[39m, \u001b[39m'\u001b[39m\u001b[39mB\u001b[39m\u001b[39m'\u001b[39m: \u001b[39m0\u001b[39m})\n\u001b[0;32m     <a href='vscode-notebook-cell:/c%3A/Python%20Tutorial/module.ipynb#W2sZmlsZQ%3D%3D?line=18'>19</a>\u001b[0m \u001b[39m# split the data into training and testing sets\u001b[39;00m\n\u001b[1;32m---> <a href='vscode-notebook-cell:/c%3A/Python%20Tutorial/module.ipynb#W2sZmlsZQ%3D%3D?line=19'>20</a>\u001b[0m X_train, X_test, y_train, y_test \u001b[39m=\u001b[39m train_test_split(X, y, test_size\u001b[39m=\u001b[39;49m\u001b[39m0.2\u001b[39;49m, random_state\u001b[39m=\u001b[39;49m\u001b[39m0\u001b[39;49m)\n\u001b[0;32m     <a href='vscode-notebook-cell:/c%3A/Python%20Tutorial/module.ipynb#W2sZmlsZQ%3D%3D?line=21'>22</a>\u001b[0m \u001b[39m# create and train the linear regression model\u001b[39;00m\n\u001b[0;32m     <a href='vscode-notebook-cell:/c%3A/Python%20Tutorial/module.ipynb#W2sZmlsZQ%3D%3D?line=22'>23</a>\u001b[0m lr \u001b[39m=\u001b[39m LinearRegression()\n",
      "File \u001b[1;32mc:\\Users\\Raj Kaneriya\\AppData\\Local\\Programs\\Python\\Python310\\lib\\site-packages\\sklearn\\model_selection\\_split.py:2448\u001b[0m, in \u001b[0;36mtrain_test_split\u001b[1;34m(test_size, train_size, random_state, shuffle, stratify, *arrays)\u001b[0m\n\u001b[0;32m   2445\u001b[0m arrays \u001b[39m=\u001b[39m indexable(\u001b[39m*\u001b[39marrays)\n\u001b[0;32m   2447\u001b[0m n_samples \u001b[39m=\u001b[39m _num_samples(arrays[\u001b[39m0\u001b[39m])\n\u001b[1;32m-> 2448\u001b[0m n_train, n_test \u001b[39m=\u001b[39m _validate_shuffle_split(\n\u001b[0;32m   2449\u001b[0m     n_samples, test_size, train_size, default_test_size\u001b[39m=\u001b[39;49m\u001b[39m0.25\u001b[39;49m\n\u001b[0;32m   2450\u001b[0m )\n\u001b[0;32m   2452\u001b[0m \u001b[39mif\u001b[39;00m shuffle \u001b[39mis\u001b[39;00m \u001b[39mFalse\u001b[39;00m:\n\u001b[0;32m   2453\u001b[0m     \u001b[39mif\u001b[39;00m stratify \u001b[39mis\u001b[39;00m \u001b[39mnot\u001b[39;00m \u001b[39mNone\u001b[39;00m:\n",
      "File \u001b[1;32mc:\\Users\\Raj Kaneriya\\AppData\\Local\\Programs\\Python\\Python310\\lib\\site-packages\\sklearn\\model_selection\\_split.py:2126\u001b[0m, in \u001b[0;36m_validate_shuffle_split\u001b[1;34m(n_samples, test_size, train_size, default_test_size)\u001b[0m\n\u001b[0;32m   2123\u001b[0m n_train, n_test \u001b[39m=\u001b[39m \u001b[39mint\u001b[39m(n_train), \u001b[39mint\u001b[39m(n_test)\n\u001b[0;32m   2125\u001b[0m \u001b[39mif\u001b[39;00m n_train \u001b[39m==\u001b[39m \u001b[39m0\u001b[39m:\n\u001b[1;32m-> 2126\u001b[0m     \u001b[39mraise\u001b[39;00m \u001b[39mValueError\u001b[39;00m(\n\u001b[0;32m   2127\u001b[0m         \u001b[39m\"\u001b[39m\u001b[39mWith n_samples=\u001b[39m\u001b[39m{}\u001b[39;00m\u001b[39m, test_size=\u001b[39m\u001b[39m{}\u001b[39;00m\u001b[39m and train_size=\u001b[39m\u001b[39m{}\u001b[39;00m\u001b[39m, the \u001b[39m\u001b[39m\"\u001b[39m\n\u001b[0;32m   2128\u001b[0m         \u001b[39m\"\u001b[39m\u001b[39mresulting train set will be empty. Adjust any of the \u001b[39m\u001b[39m\"\u001b[39m\n\u001b[0;32m   2129\u001b[0m         \u001b[39m\"\u001b[39m\u001b[39maforementioned parameters.\u001b[39m\u001b[39m\"\u001b[39m\u001b[39m.\u001b[39mformat(n_samples, test_size, train_size)\n\u001b[0;32m   2130\u001b[0m     )\n\u001b[0;32m   2132\u001b[0m \u001b[39mreturn\u001b[39;00m n_train, n_test\n",
      "\u001b[1;31mValueError\u001b[0m: With n_samples=0, test_size=0.2 and train_size=None, the resulting train set will be empty. Adjust any of the aforementioned parameters."
     ]
    }
   ],
   "source": [
    "import pandas as pd\n",
    "from sklearn.linear_model import LinearRegression\n",
    "from sklearn.model_selection import train_test_split\n",
    "from sklearn.metrics import accuracy_score\n",
    "\n",
    "# load the dataset\n",
    "url = \"https://raw.githubusercontent.com/AgustinCdeCelis/Cancer-Logistic-Regression/main/data.csv\"\n",
    "data = pd.read_csv(url)\n",
    "\n",
    "data = data.dropna()\n",
    "\n",
    "# select the features and target\n",
    "X = data.drop(['diagnosis'],axis=1)\n",
    "y = data['diagnosis']\n",
    "\n",
    "# convert target values to binary values\n",
    "y = y.map({'M': 1, 'B': 0})\n",
    "\n",
    "# split the data into training and testing sets\n",
    "X_train, X_test, y_train, y_test = train_test_split(X, y, test_size=0.2, random_state=0)\n",
    "\n",
    "# create and train the linear regression model\n",
    "lr = LinearRegression()\n",
    "lr.fit(X_train, y_train)\n",
    "\n",
    "# make predictions on the test set\n",
    "y_pred = lr.predict(X_test)\n",
    "\n",
    "# convert predictions to binary values\n",
    "y_pred = (y_pred > 0.5).astype(int)\n",
    "\n",
    "# calculate accuracy\n",
    "acc = accuracy_score(y_test, y_pred)\n",
    "print(f'Accuracy: {acc}')\n"
   ]
  }
 ],
 "metadata": {
  "kernelspec": {
   "display_name": "Python 3",
   "language": "python",
   "name": "python3"
  },
  "language_info": {
   "codemirror_mode": {
    "name": "ipython",
    "version": 3
   },
   "file_extension": ".py",
   "mimetype": "text/x-python",
   "name": "python",
   "nbconvert_exporter": "python",
   "pygments_lexer": "ipython3",
   "version": "3.10.0 (tags/v3.10.0:b494f59, Oct  4 2021, 19:00:18) [MSC v.1929 64 bit (AMD64)]"
  },
  "orig_nbformat": 4,
  "vscode": {
   "interpreter": {
    "hash": "f54b8146c3f7ce4a0fa20db2afd519a62724a024c33f3457448725e738163df9"
   }
  }
 },
 "nbformat": 4,
 "nbformat_minor": 2
}
