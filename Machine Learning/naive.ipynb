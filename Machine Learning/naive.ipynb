{
 "cells": [
  {
   "cell_type": "code",
   "execution_count": 1,
   "metadata": {},
   "outputs": [
    {
     "name": "stdout",
     "output_type": "stream",
     "text": [
      "[2 2 0 1 1 1 0 2 2 1 2 0 0 1] [0 0 0 2 1 1 1 2 1 2 2 2 0 2] [0 0 1 1 1 0 1 0 1 1 1 1 1 0]\n",
      "Enter Weather and Humidtity conditions : \n"
     ]
    },
    {
     "ename": "ValueError",
     "evalue": "not enough values to unpack (expected 2, got 0)",
     "output_type": "error",
     "traceback": [
      "\u001b[1;31m---------------------------------------------------------------------------\u001b[0m",
      "\u001b[1;31mValueError\u001b[0m                                Traceback (most recent call last)",
      "\u001b[1;32mc:\\Python Tutorial\\naive.ipynb Cell 1\u001b[0m in \u001b[0;36m<cell line: 31>\u001b[1;34m()\u001b[0m\n\u001b[0;32m     <a href='vscode-notebook-cell:/c%3A/Python%20Tutorial/naive.ipynb#W0sZmlsZQ%3D%3D?line=27'>28</a>\u001b[0m model\u001b[39m.\u001b[39mfit(features,label) \u001b[39m#Train the model using training set.\u001b[39;00m\n\u001b[0;32m     <a href='vscode-notebook-cell:/c%3A/Python%20Tutorial/naive.ipynb#W0sZmlsZQ%3D%3D?line=29'>30</a>\u001b[0m \u001b[39mprint\u001b[39m(\u001b[39m\"\u001b[39m\u001b[39mEnter Weather and Humidtity conditions : \u001b[39m\u001b[39m\"\u001b[39m)\n\u001b[1;32m---> <a href='vscode-notebook-cell:/c%3A/Python%20Tutorial/naive.ipynb#W0sZmlsZQ%3D%3D?line=30'>31</a>\u001b[0m w,h\u001b[39m=\u001b[39m\u001b[39mmap\u001b[39m(\u001b[39mint\u001b[39m, \u001b[39minput\u001b[39m()\u001b[39m.\u001b[39msplit())\n\u001b[0;32m     <a href='vscode-notebook-cell:/c%3A/Python%20Tutorial/naive.ipynb#W0sZmlsZQ%3D%3D?line=32'>33</a>\u001b[0m \u001b[39m#Predict Output\u001b[39;00m\n\u001b[0;32m     <a href='vscode-notebook-cell:/c%3A/Python%20Tutorial/naive.ipynb#W0sZmlsZQ%3D%3D?line=33'>34</a>\u001b[0m predicted\u001b[39m=\u001b[39m model\u001b[39m.\u001b[39mpredict([[w,h]]) \u001b[39m# ''' For Weather : 0:Overcast, 2:Sunny , 1:Rainy ''' For Humidity : 0:High, 2:Medium, 1:low\u001b[39;00m\n",
      "\u001b[1;31mValueError\u001b[0m: not enough values to unpack (expected 2, got 0)"
     ]
    }
   ],
   "source": [
    "from tokenize import String\n",
    "from sklearn import preprocessing\n",
    "\n",
    "#Generating the Gaussian Naive Bayes model\n",
    "from sklearn.naive_bayes import GaussianNB\n",
    "\n",
    "# Assign features and encoding labels\n",
    "weather=['Sunny','Sunny','Overcast','Rainy','Rainy','Rainy','Overcast','Sunny','Sunny',\n",
    "'Rainy','Sunny','Overcast','Overcast','Rainy']\n",
    "humidity=['High','High','High','Medium','Low','Low','Low','Medium','Low','Medium','Medium','Medium','High','Medium']\n",
    "\n",
    "batfirst=['No','No','Yes','Yes','Yes','No','Yes','No','Yes','Yes','Yes','Yes','Yes','No']\n",
    "\n",
    "# Creating labelEncoder\n",
    "le = preprocessing.LabelEncoder()\n",
    "# Converting string labels into numbers.\n",
    "weather_encoded=le.fit_transform(weather)\n",
    "hum_encoded=le.fit_transform(humidity)\n",
    "label=le.fit_transform(batfirst)\n",
    "print(weather_encoded,hum_encoded,label)\n",
    "\n",
    "\n",
    "#Combining weather and humidity in a single tuple as features\n",
    "features=list(zip(weather_encoded,hum_encoded))\n",
    "\n",
    "#Create a Gaussian Classifier\n",
    "model = GaussianNB()\n",
    "model.fit(features,label) #Train the model using training set.\n",
    "\n",
    "print(\"Enter Weather and Humidtity conditions : \")\n",
    "w,h=map(int, input().split())\n",
    "\n",
    "#Predict Output\n",
    "predicted= model.predict([[w,h]]) # ''' For Weather : 0:Overcast, 2:Sunny , 1:Rainy ''' For Humidity : 0:High, 2:Medium, 1:low\n",
    "\n",
    "print(predicted) # --> [1] that means yes, the player should bat first and [0] that means No, player should bowl first. "
   ]
  }
 ],
 "metadata": {
  "kernelspec": {
   "display_name": "Python 3.10.0 64-bit",
   "language": "python",
   "name": "python3"
  },
  "language_info": {
   "codemirror_mode": {
    "name": "ipython",
    "version": 3
   },
   "file_extension": ".py",
   "mimetype": "text/x-python",
   "name": "python",
   "nbconvert_exporter": "python",
   "pygments_lexer": "ipython3",
   "version": "3.10.0"
  },
  "orig_nbformat": 4,
  "vscode": {
   "interpreter": {
    "hash": "f54b8146c3f7ce4a0fa20db2afd519a62724a024c33f3457448725e738163df9"
   }
  }
 },
 "nbformat": 4,
 "nbformat_minor": 2
}
