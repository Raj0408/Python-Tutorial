{
 "cells": [
  {
   "cell_type": "code",
   "execution_count": 9,
   "metadata": {},
   "outputs": [
    {
     "ename": "TclError",
     "evalue": "cannot use geometry manager grid inside . which already has slaves managed by pack",
     "output_type": "error",
     "traceback": [
      "\u001b[1;31m---------------------------------------------------------------------------\u001b[0m",
      "\u001b[1;31mTclError\u001b[0m                                  Traceback (most recent call last)",
      "\u001b[1;32mc:\\Python Tutorial\\tnke.ipynb Cell 1\u001b[0m in \u001b[0;36m<cell line: 11>\u001b[1;34m()\u001b[0m\n\u001b[0;32m      <a href='vscode-notebook-cell:/c%3A/Python%20Tutorial/tnke.ipynb#W0sZmlsZQ%3D%3D?line=7'>8</a>\u001b[0m button\u001b[39m.\u001b[39mpack()\n\u001b[0;32m     <a href='vscode-notebook-cell:/c%3A/Python%20Tutorial/tnke.ipynb#W0sZmlsZQ%3D%3D?line=9'>10</a>\u001b[0m x1 \u001b[39m=\u001b[39m tk\u001b[39m.\u001b[39mStringVar()\n\u001b[1;32m---> <a href='vscode-notebook-cell:/c%3A/Python%20Tutorial/tnke.ipynb#W0sZmlsZQ%3D%3D?line=10'>11</a>\u001b[0m tk\u001b[39m.\u001b[39;49mEntry(window,textvariable\u001b[39m=\u001b[39;49mx1)\u001b[39m.\u001b[39;49mgrid()\n\u001b[0;32m     <a href='vscode-notebook-cell:/c%3A/Python%20Tutorial/tnke.ipynb#W0sZmlsZQ%3D%3D?line=11'>12</a>\u001b[0m tk\u001b[39m.\u001b[39mmainloop()\n\u001b[0;32m     <a href='vscode-notebook-cell:/c%3A/Python%20Tutorial/tnke.ipynb#W0sZmlsZQ%3D%3D?line=12'>13</a>\u001b[0m \u001b[39mprint\u001b[39m(x1\u001b[39m.\u001b[39mget())\n",
      "File \u001b[1;32mc:\\Users\\Raj Kaneriya\\AppData\\Local\\Programs\\Python\\Python310\\lib\\tkinter\\__init__.py:2522\u001b[0m, in \u001b[0;36mGrid.grid_configure\u001b[1;34m(self, cnf, **kw)\u001b[0m\n\u001b[0;32m   2507\u001b[0m \u001b[39mdef\u001b[39;00m \u001b[39mgrid_configure\u001b[39m(\u001b[39mself\u001b[39m, cnf\u001b[39m=\u001b[39m{}, \u001b[39m*\u001b[39m\u001b[39m*\u001b[39mkw):\n\u001b[0;32m   2508\u001b[0m     \u001b[39m\"\"\"Position a widget in the parent widget in a grid. Use as options:\u001b[39;00m\n\u001b[0;32m   2509\u001b[0m \u001b[39m    column=number - use cell identified with given column (starting with 0)\u001b[39;00m\n\u001b[0;32m   2510\u001b[0m \u001b[39m    columnspan=number - this widget will span several columns\u001b[39;00m\n\u001b[1;32m   (...)\u001b[0m\n\u001b[0;32m   2520\u001b[0m \u001b[39m                  widget stick to the cell boundary\u001b[39;00m\n\u001b[0;32m   2521\u001b[0m \u001b[39m    \"\"\"\u001b[39;00m\n\u001b[1;32m-> 2522\u001b[0m     \u001b[39mself\u001b[39;49m\u001b[39m.\u001b[39;49mtk\u001b[39m.\u001b[39;49mcall(\n\u001b[0;32m   2523\u001b[0m           (\u001b[39m'\u001b[39;49m\u001b[39mgrid\u001b[39;49m\u001b[39m'\u001b[39;49m, \u001b[39m'\u001b[39;49m\u001b[39mconfigure\u001b[39;49m\u001b[39m'\u001b[39;49m, \u001b[39mself\u001b[39;49m\u001b[39m.\u001b[39;49m_w)\n\u001b[0;32m   2524\u001b[0m           \u001b[39m+\u001b[39;49m \u001b[39mself\u001b[39;49m\u001b[39m.\u001b[39;49m_options(cnf, kw))\n",
      "\u001b[1;31mTclError\u001b[0m: cannot use geometry manager grid inside . which already has slaves managed by pack"
     ]
    }
   ],
   "source": [
    "from cProfile import label\n",
    "import tkinter as tk\n",
    "\n",
    "window  = tk.Tk()\n",
    "window.title(\"Tkinter Example\")\n",
    "label1 = tk.Label(text=\"Hello\")\n",
    "button  = tk.Button(text=\"Click me\")\n",
    "button.pack()\n",
    "\n",
    "\n",
    "\n"
   ]
  },
  {
   "cell_type": "code",
   "execution_count": 14,
   "metadata": {},
   "outputs": [
    {
     "name": "stdout",
     "output_type": "stream",
     "text": [
      "\n"
     ]
    }
   ],
   "source": [
    "window = tk.Tk()\n",
    "from tkinter import *\n",
    "from PIL import Image, ImageTk\n",
    "x1 = tk.StringVar()\n",
    "tk.Entry(window,textvariable=x1).grid()\n",
    "img = Image.open(\"C:/Users/Raj Kaneriya/Downloads/15.PNG\")\n",
    "tk.mainloop()\n",
    "print(x1.get())"
   ]
  },
  {
   "cell_type": "code",
   "execution_count": 20,
   "metadata": {},
   "outputs": [],
   "source": [
    "from PIL import Image ,ImageTk\n",
    "window = tk.Tk()\n",
    "window.geometry(\"700x500\")\n",
    "frame = Frame(window, width=600, height=400)\n",
    "frame.pack()\n",
    "frame.place(anchor='center', relx=0.5, rely=0.5)\n",
    "img = ImageTk.PhotoImage(Image.open(\"C:/Users/Raj Kaneriya/Downloads/15.PNG\"))\n",
    "label = Label(image = img)\n",
    "label.pack()\n",
    "tk.mainloop()"
   ]
  },
  {
   "cell_type": "code",
   "execution_count": 21,
   "metadata": {},
   "outputs": [],
   "source": [
    "def onclick():\n",
    "    img = ImageTk.PhotoImage(Image.open(\"C:/Users/Raj Kaneriya/Downloads/15.PNG\"))\n",
    "    label = Label(image = img)\n",
    "    label.pack()\n",
    "    tk.mainloop()\n"
   ]
  },
  {
   "cell_type": "code",
   "execution_count": 24,
   "metadata": {},
   "outputs": [
    {
     "name": "stdout",
     "output_type": "stream",
     "text": [
      "my name\n",
      "my name\n"
     ]
    },
    {
     "ename": "KeyboardInterrupt",
     "evalue": "",
     "output_type": "error",
     "traceback": [
      "\u001b[1;31m---------------------------------------------------------------------------\u001b[0m",
      "\u001b[1;31mKeyboardInterrupt\u001b[0m                         Traceback (most recent call last)",
      "\u001b[1;32mc:\\Python Tutorial\\tnke.ipynb Cell 5\u001b[0m in \u001b[0;36m<cell line: 5>\u001b[1;34m()\u001b[0m\n\u001b[0;32m      <a href='vscode-notebook-cell:/c%3A/Python%20Tutorial/tnke.ipynb#W4sZmlsZQ%3D%3D?line=2'>3</a>\u001b[0m butto \u001b[39m=\u001b[39m tk\u001b[39m.\u001b[39mButton(window,text\u001b[39m=\u001b[39m\u001b[39m\"\u001b[39m\u001b[39mClick me\u001b[39m\u001b[39m\"\u001b[39m,command\u001b[39m=\u001b[39monclick)\n\u001b[0;32m      <a href='vscode-notebook-cell:/c%3A/Python%20Tutorial/tnke.ipynb#W4sZmlsZQ%3D%3D?line=3'>4</a>\u001b[0m butto\u001b[39m.\u001b[39mpack()\n\u001b[1;32m----> <a href='vscode-notebook-cell:/c%3A/Python%20Tutorial/tnke.ipynb#W4sZmlsZQ%3D%3D?line=4'>5</a>\u001b[0m tk\u001b[39m.\u001b[39;49mmainloop()\n",
      "File \u001b[1;32mc:\\Users\\Raj Kaneriya\\AppData\\Local\\Programs\\Python\\Python310\\lib\\tkinter\\__init__.py:628\u001b[0m, in \u001b[0;36mmainloop\u001b[1;34m(n)\u001b[0m\n\u001b[0;32m    626\u001b[0m \u001b[39mdef\u001b[39;00m \u001b[39mmainloop\u001b[39m(n\u001b[39m=\u001b[39m\u001b[39m0\u001b[39m):\n\u001b[0;32m    627\u001b[0m     \u001b[39m\"\"\"Run the main loop of Tcl.\"\"\"\u001b[39;00m\n\u001b[1;32m--> 628\u001b[0m     _get_default_root(\u001b[39m'\u001b[39;49m\u001b[39mrun the main loop\u001b[39;49m\u001b[39m'\u001b[39;49m)\u001b[39m.\u001b[39;49mtk\u001b[39m.\u001b[39;49mmainloop(n)\n",
      "\u001b[1;31mKeyboardInterrupt\u001b[0m: "
     ]
    }
   ],
   "source": [
    "window = tk.Tk()\n",
    "window.geometry(\"700x500\")\n",
    "butto = tk.Button(window,text=\"Click me\",command=onclick)\n",
    "butto.pack()\n",
    "tk.mainloop()"
   ]
  },
  {
   "cell_type": "code",
   "execution_count": 146,
   "metadata": {},
   "outputs": [],
   "source": [
    "from tkinter import *\n",
    "import tkinter as tk\n",
    "window = tk.Tk()\n",
    "window.title(\"Chat Bot\")\n",
    "\n",
    "BG_GRAY = \"#ABB2B9\"\n",
    "BG_COLOR = \"#17202A\"\n",
    "TEXT_COLOR = \"#EAECEE\"\n",
    "BG_BLACK = \"#000000\"\n",
    "BG_WHITE = \"#FFFFFF\"\n",
    "\n",
    "FONT = \"Helvetica 14\"\n",
    "FONT_BOLD = \"Helvetica 13 bold\"\n",
    "\n",
    "title = tk.Label(text=\"Chat Bot\",background=BG_COLOR,foreground=TEXT_COLOR,padx=20,pady=20,font=FONT_BOLD)\n",
    "title.pack()\n",
    "\n",
    "frame = Frame(window, width=600, height=400,background=BG_BLACK)\n",
    "frame.pack()\n",
    "frame.place(anchor='center', relx=0.5, rely=0.5)\n",
    "\n",
    "\n",
    "text_feild = tk.Text(frame,background=BG_GRAY,foreground=TEXT_COLOR,font=FONT,height=1,width=45)\n",
    "text_feild.pack()\n",
    "text_feild.place(anchor='sw', relx=0.0059, rely=0.998)\n",
    "\n",
    "\n",
    "txt = Text(frame,background=BG_BLACK,foreground=TEXT_COLOR,font=FONT,height=10,width=20)\n",
    "txt.place(anchor='n', relx=0.19, rely=0)\n",
    "txt.config(state=DISABLED)\n",
    "def send():\n",
    "    txt.config(state=NORMAL)\n",
    "    txt.insert(END,\"You -> \", text_feild.get(\"1.0\",END),\"\\n\")\n",
    "    text_feild.delete(\"1.0\",END)\n",
    "    txt.config(state=DISABLED)\n",
    "\n",
    "# txt = Text(window, bg=BG_COLOR, fg=TEXT_COLOR, font=FONT, width=60).pack()\n",
    "\n",
    "send_button = tk.Button(frame,text=\"Send\",background=BG_GRAY,foreground=TEXT_COLOR,font=FONT_BOLD,height=1,command=send)\n",
    "send_button.pack()\n",
    "send_button.place(anchor='se', relx=1, rely=1)\n",
    "\n",
    "\n",
    "\n",
    "\n",
    "\n",
    "\n",
    "tk.mainloop()"
   ]
  }
 ],
 "metadata": {
  "kernelspec": {
   "display_name": "Python 3.10.0 64-bit",
   "language": "python",
   "name": "python3"
  },
  "language_info": {
   "codemirror_mode": {
    "name": "ipython",
    "version": 3
   },
   "file_extension": ".py",
   "mimetype": "text/x-python",
   "name": "python",
   "nbconvert_exporter": "python",
   "pygments_lexer": "ipython3",
   "version": "3.10.0 (tags/v3.10.0:b494f59, Oct  4 2021, 19:00:18) [MSC v.1929 64 bit (AMD64)]"
  },
  "orig_nbformat": 4,
  "vscode": {
   "interpreter": {
    "hash": "f54b8146c3f7ce4a0fa20db2afd519a62724a024c33f3457448725e738163df9"
   }
  }
 },
 "nbformat": 4,
 "nbformat_minor": 2
}
