{
 "cells": [
  {
   "cell_type": "code",
   "execution_count": 1,
   "metadata": {},
   "outputs": [
    {
     "name": "stdout",
     "output_type": "stream",
     "text": [
      "hello\n"
     ]
    }
   ],
   "source": [
    "print(\"hello\")"
   ]
  },
  {
   "cell_type": "code",
   "execution_count": 2,
   "metadata": {},
   "outputs": [
    {
     "name": "stdout",
     "output_type": "stream",
     "text": [
      "x is less than 20\n"
     ]
    }
   ],
   "source": [
    "x =10\n",
    "if(x>20):\n",
    "    print(\"x is greater than 20\")\n",
    "elif(x==20):\n",
    "    print(\"x equal to 20\")\n",
    "else:\n",
    "    print(\"x is less than 20\")"
   ]
  },
  {
   "cell_type": "code",
   "execution_count": 1,
   "metadata": {},
   "outputs": [
    {
     "name": "stdout",
     "output_type": "stream",
     "text": [
      "Apple\n",
      "Banana\n",
      "Strabery\n"
     ]
    }
   ],
   "source": [
    "a= [\"Apple\",\"Banana\",\"Strabery\"]\n",
    "for i in a:\n",
    "    print(i)"
   ]
  },
  {
   "cell_type": "code",
   "execution_count": 2,
   "metadata": {},
   "outputs": [
    {
     "name": "stdout",
     "output_type": "stream",
     "text": [
      "0\n"
     ]
    }
   ],
   "source": [
    "def function():\n",
    "    a =0\n",
    "    print(a)\n",
    "function()"
   ]
  },
  {
   "cell_type": "code",
   "execution_count": 13,
   "metadata": {},
   "outputs": [
    {
     "ename": "SyntaxError",
     "evalue": "name 'x' is used prior to global declaration (1501732648.py, line 5)",
     "output_type": "error",
     "traceback": [
      "\u001b[1;36m  Input \u001b[1;32mIn [13]\u001b[1;36m\u001b[0m\n\u001b[1;33m    global x\u001b[0m\n\u001b[1;37m    ^\u001b[0m\n\u001b[1;31mSyntaxError\u001b[0m\u001b[1;31m:\u001b[0m name 'x' is used prior to global declaration\n"
     ]
    }
   ],
   "source": [
    "x = 10\n",
    "def fun():\n",
    "    x =20 #local variable so it will not change the value of x\n",
    "    print(x)\n",
    "    global x\n",
    "    x = x+10\n",
    "    print(x)"
   ]
  },
  {
   "cell_type": "code",
   "execution_count": 14,
   "metadata": {},
   "outputs": [],
   "source": [
    "x = 10\n",
    "def fun():\n",
    "    global x\n",
    "    x = x+10\n",
    "    print(x)\n",
    "    x =20 #local variable so it will not change the value of x\n",
    "    print(x)"
   ]
  },
  {
   "cell_type": "code",
   "execution_count": 15,
   "metadata": {},
   "outputs": [
    {
     "name": "stdout",
     "output_type": "stream",
     "text": [
      "20\n",
      "20\n"
     ]
    }
   ],
   "source": [
    "fun()"
   ]
  },
  {
   "cell_type": "code",
   "execution_count": null,
   "metadata": {},
   "outputs": [],
   "source": [
    "\n",
    "def fun():\n"
   ]
  },
  {
   "cell_type": "code",
   "execution_count": 45,
   "metadata": {},
   "outputs": [
    {
     "name": "stdout",
     "output_type": "stream",
     "text": [
      "True\n"
     ]
    },
    {
     "data": {
      "text/plain": [
       "'abcdefghijklmnopqrstuvwxyz'"
      ]
     },
     "execution_count": 45,
     "metadata": {},
     "output_type": "execute_result"
    }
   ],
   "source": [
    "import string\n",
    "str1 = \"The quick brown or sentences containing every letter of the alphabet at least once\"\n",
    "str2 = \"abcdefghijklmnopqrstuvwxyz\"\n",
    "str3 = set(str1.lower())\n",
    "str3.remove(' ')\n",
    "\n",
    "str2\n",
    "string.ascii_lowercase"
   ]
  },
  {
   "cell_type": "code",
   "execution_count": null,
   "metadata": {},
   "outputs": [],
   "source": [
    "import string\n",
    "a = string.ascii_lowercase\n",
    "str1 = \"The quick brown or sentences containing every letter of the alphabet at least once\"\n",
    "c= set(a.lower)\n"
   ]
  },
  {
   "cell_type": "code",
   "execution_count": 47,
   "metadata": {},
   "outputs": [
    {
     "name": "stdout",
     "output_type": "stream",
     "text": [
      "1\n",
      "3\n",
      "5\n",
      "7\n",
      "9\n"
     ]
    }
   ],
   "source": [
    "a= int(input(\"Enter the first number\"))\n",
    "b = int(input(\"Enter the second number\"))\n",
    "for i in range(a,b+1):\n",
    "    if(i%2 != 0 and i%9 != 0 and i%11 != 0):\n",
    "        print(i)"
   ]
  },
  {
   "cell_type": "code",
   "execution_count": 63,
   "metadata": {},
   "outputs": [
    {
     "data": {
      "text/plain": [
       "2.5"
      ]
     },
     "execution_count": 63,
     "metadata": {},
     "output_type": "execute_result"
    }
   ],
   "source": [
    "import numpy as np\n",
    "\n",
    "# np.mean([1,2,3])\n",
    "np.median([1,2,3,4])"
   ]
  },
  {
   "cell_type": "code",
   "execution_count": 4,
   "metadata": {},
   "outputs": [
    {
     "data": {
      "text/plain": [
       "array([[  0., 100.,  78., 342.],\n",
       "       [  1.,  11.,  62., 191.],\n",
       "       [  2.,   8.,  85., 252.],\n",
       "       [  3.,  71.,  24., 307.],\n",
       "       [  4., 104.,  17., 229.],\n",
       "       [  5.,  18., 104., 246.],\n",
       "       [  6.,   8.,  76., 226.],\n",
       "       [  7.,  86.,  74., 288.],\n",
       "       [  8.,  12.,  60., 216.],\n",
       "       [  9.,  25.,  90., 304.],\n",
       "       [ 10.,  56.,   6., 272.],\n",
       "       [ 11.,  88.,  69., 302.],\n",
       "       [ 12., 147.,  65., 312.],\n",
       "       [ 13., 121., 146., 370.],\n",
       "       [ 15.,  99., 110., 362.]])"
      ]
     },
     "execution_count": 4,
     "metadata": {},
     "output_type": "execute_result"
    }
   ],
   "source": [
    "import numpy as np\n",
    "cric_data = np.loadtxt(\"https://raw.githubusercontent.com/goradbj/MachineLearning/main/cric.tsv\",skiprows=1)\n",
    "cric_data\n",
    "\n",
    "\n",
    "\n",
    "\n",
    "\n"
   ]
  },
  {
   "cell_type": "code",
   "execution_count": 6,
   "metadata": {},
   "outputs": [
    {
     "name": "stdout",
     "output_type": "stream",
     "text": [
      "[100.  11.   8.  71. 104.  18.   8.  86.  12.  25.  56.  88. 147. 121.\n",
      "  99.]\n"
     ]
    },
    {
     "data": {
      "text/plain": [
       "63.6"
      ]
     },
     "execution_count": 6,
     "metadata": {},
     "output_type": "execute_result"
    }
   ],
   "source": [
    "Sachin = cric_data[:,1]\n",
    "print(Sachin)\n",
    "np.mean(Sachin)"
   ]
  },
  {
   "cell_type": "code",
   "execution_count": null,
   "metadata": {},
   "outputs": [],
   "source": [
    "Sachin = cric_data[:,1]\n",
    "np.median(Sachin)"
   ]
  },
  {
   "cell_type": "code",
   "execution_count": null,
   "metadata": {},
   "outputs": [],
   "source": [
    "Dravid = cric_data[:,2]\n",
    "np.median(Dravid)"
   ]
  },
  {
   "cell_type": "code",
   "execution_count": null,
   "metadata": {},
   "outputs": [],
   "source": [
    "Dravid = cric_data[:,2]\n",
    "np.mean(Dravid)"
   ]
  },
  {
   "cell_type": "markdown",
   "metadata": {},
   "source": [
    "HomeWork Question Solved !!!!!"
   ]
  },
  {
   "cell_type": "code",
   "execution_count": 1,
   "metadata": {},
   "outputs": [
    {
     "name": "stdout",
     "output_type": "stream",
     "text": [
      "[8, 7, 1, 5, 6, 8, 24]\n",
      "[8, 7, 1, 5, 6, 32]\n"
     ]
    }
   ],
   "source": [
    "a = [8,7,1,5,6,32]\n",
    "max =0\n",
    "second_max = 0\n",
    "index_of_max = 0\n",
    "b = []\n",
    "for i in range(len(a)):\n",
    "    if(a[i]>max):\n",
    "        max = a[i]\n",
    "        index_of_max = i\n",
    "for i in range(len(a)):\n",
    "    if(a[i]>second_max and a[i]<max):\n",
    "        second_max = a[i]\n",
    "\n",
    "first_half = a[:index_of_max]\n",
    "second_half = a[index_of_max+1:]\n",
    "first_half.append(second_max)\n",
    "first_half.append(max-second_max)\n",
    "first_half.extend(second_half)\n",
    "print(first_half)\n",
    "print(a)\n",
    "        \n",
    "\n"
   ]
  },
  {
   "cell_type": "code",
   "execution_count": 29,
   "metadata": {},
   "outputs": [
    {
     "name": "stdout",
     "output_type": "stream",
     "text": [
      "3\n"
     ]
    }
   ],
   "source": [
    "from numpy import random\n",
    "random.seed()\n",
    "x= random.randint(1,11)\n",
    "print(x)"
   ]
  },
  {
   "cell_type": "code",
   "execution_count": 59,
   "metadata": {},
   "outputs": [
    {
     "name": "stdout",
     "output_type": "stream",
     "text": [
      "6\n",
      "[[[5 6 8 6 1]\n",
      "  [6 4 8 1 8]\n",
      "  [5 1 0 8 8]\n",
      "  [8 2 6 8 1]\n",
      "  [8 3 5 3 6]]]\n",
      "[8 9]\n"
     ]
    }
   ],
   "source": [
    "from numpy import random\n",
    "random.seed(9)\n",
    "x = random.randint(10,size=(1,5,5))\n",
    "#how many index you have to pass to access element\n",
    "print(x[0][1][0])\n",
    "print(x)\n",
    "int_arr = np.array([8,9])\n",
    "print(int_arr)"
   ]
  },
  {
   "cell_type": "code",
   "execution_count": 50,
   "metadata": {},
   "outputs": [
    {
     "name": "stdout",
     "output_type": "stream",
     "text": [
      "input array is  [8]\n",
      "output scalar from input array  8\n"
     ]
    },
    {
     "name": "stderr",
     "output_type": "stream",
     "text": [
      "C:\\Users\\Raj Kaneriya\\AppData\\Local\\Temp\\ipykernel_42168\\3009928484.py:7: DeprecationWarning: np.asscalar(a) is deprecated since NumPy v1.16, use a.item() instead\n",
      "  out_scalar = np.asscalar(in_arr)\n"
     ]
    }
   ],
   "source": [
    "\n",
    "\n",
    "import numpy as np\n",
    "\n",
    "in_arr = np.array([8])\n",
    "\n",
    "print(\"input array is \", in_arr)\n",
    "\n",
    "out_scalar = np.asscalar(in_arr)\n",
    "print(\"output scalar from input array \", out_scalar)"
   ]
  },
  {
   "cell_type": "code",
   "execution_count": 55,
   "metadata": {},
   "outputs": [
    {
     "name": "stdout",
     "output_type": "stream",
     "text": [
      "Horizontal Vector\n",
      "[1 2 3]\n",
      "------------------\n",
      "Vertical Vector\n",
      "[[10]\n",
      " [20]\n",
      " [30]]\n"
     ]
    },
    {
     "data": {
      "text/plain": [
       "1"
      ]
     },
     "execution_count": 55,
     "metadata": {},
     "output_type": "execute_result"
    }
   ],
   "source": [
    "import numpy as np\n",
    "\n",
    "#creating 1-D list\n",
    "list1 = [1, 2, 3]\n",
    "\n",
    "#creating 1-D list vertical\n",
    "\n",
    "list2 = [[10],\n",
    "        [20],\n",
    "        [30]]\n",
    "\n",
    "list3  =[[10],[20],[30]]\n",
    "\n",
    "#create vector1\n",
    "\n",
    "vector1 =  np.array(list1)\n",
    "vector2 = np.array(list2)\n",
    "\n",
    "print(\"Horizontal Vector\")\n",
    "print(vector1)\n",
    "\n",
    "print(\"------------------\")\n",
    "\n",
    "print(\"Vertical Vector\")\n",
    "print(vector2)\n",
    "\n",
    "type(vector1)\n",
    "vector1.ndim"
   ]
  },
  {
   "cell_type": "code",
   "execution_count": 56,
   "metadata": {},
   "outputs": [
    {
     "data": {
      "text/plain": [
       "2"
      ]
     },
     "execution_count": 56,
     "metadata": {},
     "output_type": "execute_result"
    }
   ],
   "source": [
    "vector3 = np.array(list3)\n",
    "vector3.ndim"
   ]
  },
  {
   "cell_type": "code",
   "execution_count": 60,
   "metadata": {},
   "outputs": [
    {
     "name": "stdout",
     "output_type": "stream",
     "text": [
      "via string input : \n",
      " [[1 2]\n",
      " [3 4]] \n",
      "\n",
      "\n",
      "via array-like input :\n",
      " [[5 6]\n",
      " [3 4]\n",
      " [1 2]]\n"
     ]
    }
   ],
   "source": [
    "import numpy as np\n",
    "\n",
    "a=np.matrix('1 2; 3 4') #how to pads 3d\n",
    "print(\"via string input : \\n\", a, \"\\n\\n\")\n",
    "\n",
    "#array-like input\n",
    "b = np.matrix([[5, 6], [3,4],[1,2]])\n",
    "print(\"via array-like input :\\n\", b)"
   ]
  },
  {
   "cell_type": "code",
   "execution_count": 62,
   "metadata": {},
   "outputs": [
    {
     "name": "stdout",
     "output_type": "stream",
     "text": [
      "[[43 54]\n",
      " [27 34]\n",
      " [11 14]]\n"
     ]
    }
   ],
   "source": [
    "import numpy as np\n",
    "\n",
    "A = np.matrix([[5, 6], \n",
    "                [3,4],\n",
    "                [1,2]])\n",
    "B = np.matrix([[5, 6],\n",
    "                [3,4]])\n",
    "\n",
    "print(np.dot(A,B))"
   ]
  },
  {
   "cell_type": "markdown",
   "metadata": {},
   "source": [
    "Array multiplication multiply with number to number not like matrix we can't use in list to multyply list "
   ]
  },
  {
   "cell_type": "code",
   "execution_count": null,
   "metadata": {},
   "outputs": [],
   "source": []
  },
  {
   "cell_type": "code",
   "execution_count": 63,
   "metadata": {},
   "outputs": [
    {
     "data": {
      "text/plain": [
       "array([[ 1,  4],\n",
       "       [ 4, 16]])"
      ]
     },
     "execution_count": 63,
     "metadata": {},
     "output_type": "execute_result"
    }
   ],
   "source": [
    "a = np.array([[1,2] , [2,4]])\n",
    "b = np.array([[1,2] , [2,4]])\n",
    "\n",
    "a*b"
   ]
  },
  {
   "cell_type": "code",
   "execution_count": 64,
   "metadata": {},
   "outputs": [
    {
     "name": "stdout",
     "output_type": "stream",
     "text": [
      "[[[ 1 23 78]]\n",
      "\n",
      " [[98 60 75]]\n",
      "\n",
      " [[79 25 48]]]\n",
      "1\n",
      "98\n"
     ]
    }
   ],
   "source": [
    "import numpy as np\n",
    "\n",
    "arr = np.array([[[1,23,78]], [[98,60,75]],[[79,25,48]]])\n",
    "print(arr)\n",
    "\n",
    "#min function\n",
    "print(np.amin(arr))\n",
    "#max function\n",
    "print(np.amax(arr))"
   ]
  }
 ],
 "metadata": {
  "kernelspec": {
   "display_name": "Python 3.10.0 64-bit",
   "language": "python",
   "name": "python3"
  },
  "language_info": {
   "codemirror_mode": {
    "name": "ipython",
    "version": 3
   },
   "file_extension": ".py",
   "mimetype": "text/x-python",
   "name": "python",
   "nbconvert_exporter": "python",
   "pygments_lexer": "ipython3",
   "version": "3.10.0 (tags/v3.10.0:b494f59, Oct  4 2021, 19:00:18) [MSC v.1929 64 bit (AMD64)]"
  },
  "orig_nbformat": 4,
  "vscode": {
   "interpreter": {
    "hash": "f54b8146c3f7ce4a0fa20db2afd519a62724a024c33f3457448725e738163df9"
   }
  }
 },
 "nbformat": 4,
 "nbformat_minor": 2
}
